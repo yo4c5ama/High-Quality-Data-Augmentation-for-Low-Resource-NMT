{
 "cells": [
  {
   "cell_type": "markdown",
   "id": "c35b3720a18c5c41",
   "metadata": {},
   "source": [
    "# High-Quality Data Augmentation for Low-Resource NMT: Combining Translation Memory, a GAN Generator, and Filtering\n"
   ]
  },
  {
   "cell_type": "markdown",
   "id": "26abf4c5-af32-4eb8-918a-08071874dfb6",
   "metadata": {},
   "source": [
    "#### As this is a proof-of-concept demonstration:\n",
    "1. We employ toy data instead of real datasets.\n",
    "\n",
    "2. The translation outputs are primarily intended to illustrate the viability of our approach."
   ]
  },
  {
   "cell_type": "code",
   "execution_count": 1,
   "id": "a73e3720-7418-4b35-a6bf-24303f899200",
   "metadata": {},
   "outputs": [
    {
     "name": "stdout",
     "output_type": "stream",
     "text": [
      "Requirement already satisfied: sentence-transformers in /home/Liu_Hengjie/miniconda3/envs/test/lib/python3.8/site-packages (from -r requirements.txt (line 1)) (3.0.0)\n",
      "Requirement already satisfied: tqdm in /home/Liu_Hengjie/miniconda3/envs/test/lib/python3.8/site-packages (from -r requirements.txt (line 2)) (4.66.4)\n",
      "Requirement already satisfied: tabulate in /home/Liu_Hengjie/miniconda3/envs/test/lib/python3.8/site-packages (from -r requirements.txt (line 3)) (0.9.0)\n",
      "Requirement already satisfied: sentencepiece in /home/Liu_Hengjie/miniconda3/envs/test/lib/python3.8/site-packages (from -r requirements.txt (line 4)) (0.2.0)\n",
      "Requirement already satisfied: sacrebleu in /home/Liu_Hengjie/miniconda3/envs/test/lib/python3.8/site-packages (from -r requirements.txt (line 5)) (2.4.2)\n",
      "Requirement already satisfied: tensorboard in /home/Liu_Hengjie/miniconda3/envs/test/lib/python3.8/site-packages (from -r requirements.txt (line 6)) (2.14.0)\n",
      "Requirement already satisfied: kenlm in /home/Liu_Hengjie/miniconda3/envs/test/lib/python3.8/site-packages (from -r requirements.txt (line 7)) (0.2.0)\n",
      "Requirement already satisfied: matplotlib in /home/Liu_Hengjie/miniconda3/envs/test/lib/python3.8/site-packages (from -r requirements.txt (line 8)) (3.7.5)\n",
      "Requirement already satisfied: faiss-gpu in /home/Liu_Hengjie/miniconda3/envs/test/lib/python3.8/site-packages (from -r requirements.txt (line 9)) (1.7.2)\n",
      "Requirement already satisfied: transformers<5.0.0,>=4.34.0 in /home/Liu_Hengjie/miniconda3/envs/test/lib/python3.8/site-packages (from sentence-transformers->-r requirements.txt (line 1)) (4.41.2)\n",
      "Requirement already satisfied: torch>=1.11.0 in /home/Liu_Hengjie/miniconda3/envs/test/lib/python3.8/site-packages (from sentence-transformers->-r requirements.txt (line 1)) (1.12.1)\n",
      "Requirement already satisfied: numpy in /home/Liu_Hengjie/miniconda3/envs/test/lib/python3.8/site-packages (from sentence-transformers->-r requirements.txt (line 1)) (1.24.3)\n",
      "Requirement already satisfied: scikit-learn in /home/Liu_Hengjie/miniconda3/envs/test/lib/python3.8/site-packages (from sentence-transformers->-r requirements.txt (line 1)) (1.3.2)\n",
      "Requirement already satisfied: scipy in /home/Liu_Hengjie/miniconda3/envs/test/lib/python3.8/site-packages (from sentence-transformers->-r requirements.txt (line 1)) (1.10.1)\n",
      "Requirement already satisfied: huggingface-hub>=0.15.1 in /home/Liu_Hengjie/miniconda3/envs/test/lib/python3.8/site-packages (from sentence-transformers->-r requirements.txt (line 1)) (0.23.3)\n",
      "Requirement already satisfied: Pillow in /home/Liu_Hengjie/miniconda3/envs/test/lib/python3.8/site-packages (from sentence-transformers->-r requirements.txt (line 1)) (10.3.0)\n",
      "Requirement already satisfied: portalocker in /home/Liu_Hengjie/miniconda3/envs/test/lib/python3.8/site-packages (from sacrebleu->-r requirements.txt (line 5)) (2.8.2)\n",
      "Requirement already satisfied: regex in /home/Liu_Hengjie/miniconda3/envs/test/lib/python3.8/site-packages (from sacrebleu->-r requirements.txt (line 5)) (2024.5.15)\n",
      "Requirement already satisfied: colorama in /home/Liu_Hengjie/miniconda3/envs/test/lib/python3.8/site-packages (from sacrebleu->-r requirements.txt (line 5)) (0.4.6)\n",
      "Requirement already satisfied: lxml in /home/Liu_Hengjie/miniconda3/envs/test/lib/python3.8/site-packages (from sacrebleu->-r requirements.txt (line 5)) (5.2.2)\n",
      "Requirement already satisfied: absl-py>=0.4 in /home/Liu_Hengjie/miniconda3/envs/test/lib/python3.8/site-packages (from tensorboard->-r requirements.txt (line 6)) (2.1.0)\n",
      "Requirement already satisfied: grpcio>=1.48.2 in /home/Liu_Hengjie/miniconda3/envs/test/lib/python3.8/site-packages (from tensorboard->-r requirements.txt (line 6)) (1.64.1)\n",
      "Requirement already satisfied: google-auth<3,>=1.6.3 in /home/Liu_Hengjie/miniconda3/envs/test/lib/python3.8/site-packages (from tensorboard->-r requirements.txt (line 6)) (2.30.0)\n",
      "Requirement already satisfied: google-auth-oauthlib<1.1,>=0.5 in /home/Liu_Hengjie/miniconda3/envs/test/lib/python3.8/site-packages (from tensorboard->-r requirements.txt (line 6)) (1.0.0)\n",
      "Requirement already satisfied: markdown>=2.6.8 in /home/Liu_Hengjie/miniconda3/envs/test/lib/python3.8/site-packages (from tensorboard->-r requirements.txt (line 6)) (3.6)\n",
      "Requirement already satisfied: protobuf>=3.19.6 in /home/Liu_Hengjie/miniconda3/envs/test/lib/python3.8/site-packages (from tensorboard->-r requirements.txt (line 6)) (5.27.1)\n",
      "Requirement already satisfied: requests<3,>=2.21.0 in /home/Liu_Hengjie/miniconda3/envs/test/lib/python3.8/site-packages (from tensorboard->-r requirements.txt (line 6)) (2.32.2)\n",
      "Requirement already satisfied: setuptools>=41.0.0 in /home/Liu_Hengjie/miniconda3/envs/test/lib/python3.8/site-packages (from tensorboard->-r requirements.txt (line 6)) (69.5.1)\n",
      "Requirement already satisfied: tensorboard-data-server<0.8.0,>=0.7.0 in /home/Liu_Hengjie/miniconda3/envs/test/lib/python3.8/site-packages (from tensorboard->-r requirements.txt (line 6)) (0.7.2)\n",
      "Requirement already satisfied: werkzeug>=1.0.1 in /home/Liu_Hengjie/miniconda3/envs/test/lib/python3.8/site-packages (from tensorboard->-r requirements.txt (line 6)) (3.0.3)\n",
      "Requirement already satisfied: wheel>=0.26 in /home/Liu_Hengjie/miniconda3/envs/test/lib/python3.8/site-packages (from tensorboard->-r requirements.txt (line 6)) (0.43.0)\n",
      "Requirement already satisfied: contourpy>=1.0.1 in /home/Liu_Hengjie/miniconda3/envs/test/lib/python3.8/site-packages (from matplotlib->-r requirements.txt (line 8)) (1.1.1)\n",
      "Requirement already satisfied: cycler>=0.10 in /home/Liu_Hengjie/miniconda3/envs/test/lib/python3.8/site-packages (from matplotlib->-r requirements.txt (line 8)) (0.12.1)\n",
      "Requirement already satisfied: fonttools>=4.22.0 in /home/Liu_Hengjie/miniconda3/envs/test/lib/python3.8/site-packages (from matplotlib->-r requirements.txt (line 8)) (4.53.0)\n",
      "Requirement already satisfied: kiwisolver>=1.0.1 in /home/Liu_Hengjie/miniconda3/envs/test/lib/python3.8/site-packages (from matplotlib->-r requirements.txt (line 8)) (1.4.5)\n",
      "Requirement already satisfied: packaging>=20.0 in /home/Liu_Hengjie/miniconda3/envs/test/lib/python3.8/site-packages (from matplotlib->-r requirements.txt (line 8)) (23.2)\n",
      "Requirement already satisfied: pyparsing>=2.3.1 in /home/Liu_Hengjie/miniconda3/envs/test/lib/python3.8/site-packages (from matplotlib->-r requirements.txt (line 8)) (3.1.2)\n",
      "Requirement already satisfied: python-dateutil>=2.7 in /home/Liu_Hengjie/miniconda3/envs/test/lib/python3.8/site-packages (from matplotlib->-r requirements.txt (line 8)) (2.9.0.post0)\n",
      "Requirement already satisfied: importlib-resources>=3.2.0 in /home/Liu_Hengjie/miniconda3/envs/test/lib/python3.8/site-packages (from matplotlib->-r requirements.txt (line 8)) (6.1.1)\n",
      "Requirement already satisfied: cachetools<6.0,>=2.0.0 in /home/Liu_Hengjie/miniconda3/envs/test/lib/python3.8/site-packages (from google-auth<3,>=1.6.3->tensorboard->-r requirements.txt (line 6)) (5.3.3)\n",
      "Requirement already satisfied: pyasn1-modules>=0.2.1 in /home/Liu_Hengjie/miniconda3/envs/test/lib/python3.8/site-packages (from google-auth<3,>=1.6.3->tensorboard->-r requirements.txt (line 6)) (0.4.0)\n",
      "Requirement already satisfied: rsa<5,>=3.1.4 in /home/Liu_Hengjie/miniconda3/envs/test/lib/python3.8/site-packages (from google-auth<3,>=1.6.3->tensorboard->-r requirements.txt (line 6)) (4.9)\n",
      "Requirement already satisfied: requests-oauthlib>=0.7.0 in /home/Liu_Hengjie/miniconda3/envs/test/lib/python3.8/site-packages (from google-auth-oauthlib<1.1,>=0.5->tensorboard->-r requirements.txt (line 6)) (2.0.0)\n",
      "Requirement already satisfied: filelock in /home/Liu_Hengjie/miniconda3/envs/test/lib/python3.8/site-packages (from huggingface-hub>=0.15.1->sentence-transformers->-r requirements.txt (line 1)) (3.14.0)\n",
      "Requirement already satisfied: fsspec>=2023.5.0 in /home/Liu_Hengjie/miniconda3/envs/test/lib/python3.8/site-packages (from huggingface-hub>=0.15.1->sentence-transformers->-r requirements.txt (line 1)) (2024.6.0)\n",
      "Requirement already satisfied: pyyaml>=5.1 in /home/Liu_Hengjie/miniconda3/envs/test/lib/python3.8/site-packages (from huggingface-hub>=0.15.1->sentence-transformers->-r requirements.txt (line 1)) (6.0.1)\n",
      "Requirement already satisfied: typing-extensions>=3.7.4.3 in /home/Liu_Hengjie/miniconda3/envs/test/lib/python3.8/site-packages (from huggingface-hub>=0.15.1->sentence-transformers->-r requirements.txt (line 1)) (4.11.0)\n",
      "Requirement already satisfied: zipp>=3.1.0 in /home/Liu_Hengjie/miniconda3/envs/test/lib/python3.8/site-packages (from importlib-resources>=3.2.0->matplotlib->-r requirements.txt (line 8)) (3.17.0)\n",
      "Requirement already satisfied: importlib-metadata>=4.4 in /home/Liu_Hengjie/miniconda3/envs/test/lib/python3.8/site-packages (from markdown>=2.6.8->tensorboard->-r requirements.txt (line 6)) (7.0.1)\n",
      "Requirement already satisfied: six>=1.5 in /home/Liu_Hengjie/miniconda3/envs/test/lib/python3.8/site-packages (from python-dateutil>=2.7->matplotlib->-r requirements.txt (line 8)) (1.16.0)\n",
      "Requirement already satisfied: charset-normalizer<4,>=2 in /home/Liu_Hengjie/miniconda3/envs/test/lib/python3.8/site-packages (from requests<3,>=2.21.0->tensorboard->-r requirements.txt (line 6)) (2.0.4)\n",
      "Requirement already satisfied: idna<4,>=2.5 in /home/Liu_Hengjie/miniconda3/envs/test/lib/python3.8/site-packages (from requests<3,>=2.21.0->tensorboard->-r requirements.txt (line 6)) (3.7)\n",
      "Requirement already satisfied: urllib3<3,>=1.21.1 in /home/Liu_Hengjie/miniconda3/envs/test/lib/python3.8/site-packages (from requests<3,>=2.21.0->tensorboard->-r requirements.txt (line 6)) (2.2.1)\n",
      "Requirement already satisfied: certifi>=2017.4.17 in /home/Liu_Hengjie/miniconda3/envs/test/lib/python3.8/site-packages (from requests<3,>=2.21.0->tensorboard->-r requirements.txt (line 6)) (2024.6.2)\n",
      "Requirement already satisfied: tokenizers<0.20,>=0.19 in /home/Liu_Hengjie/miniconda3/envs/test/lib/python3.8/site-packages (from transformers<5.0.0,>=4.34.0->sentence-transformers->-r requirements.txt (line 1)) (0.19.1)\n",
      "Requirement already satisfied: safetensors>=0.4.1 in /home/Liu_Hengjie/miniconda3/envs/test/lib/python3.8/site-packages (from transformers<5.0.0,>=4.34.0->sentence-transformers->-r requirements.txt (line 1)) (0.4.3)\n",
      "Requirement already satisfied: MarkupSafe>=2.1.1 in /home/Liu_Hengjie/miniconda3/envs/test/lib/python3.8/site-packages (from werkzeug>=1.0.1->tensorboard->-r requirements.txt (line 6)) (2.1.3)\n",
      "Requirement already satisfied: joblib>=1.1.1 in /home/Liu_Hengjie/miniconda3/envs/test/lib/python3.8/site-packages (from scikit-learn->sentence-transformers->-r requirements.txt (line 1)) (1.4.2)\n",
      "Requirement already satisfied: threadpoolctl>=2.0.0 in /home/Liu_Hengjie/miniconda3/envs/test/lib/python3.8/site-packages (from scikit-learn->sentence-transformers->-r requirements.txt (line 1)) (3.5.0)\n",
      "Requirement already satisfied: pyasn1<0.7.0,>=0.4.6 in /home/Liu_Hengjie/miniconda3/envs/test/lib/python3.8/site-packages (from pyasn1-modules>=0.2.1->google-auth<3,>=1.6.3->tensorboard->-r requirements.txt (line 6)) (0.6.0)\n",
      "Requirement already satisfied: oauthlib>=3.0.0 in /home/Liu_Hengjie/miniconda3/envs/test/lib/python3.8/site-packages (from requests-oauthlib>=0.7.0->google-auth-oauthlib<1.1,>=0.5->tensorboard->-r requirements.txt (line 6)) (3.2.2)\n"
     ]
    }
   ],
   "source": [
    "!pip install -r requirements.txt"
   ]
  },
  {
   "cell_type": "markdown",
   "id": "a189dee4-7088-4d89-9032-43db22e51238",
   "metadata": {},
   "source": [
    "## Integrating Translation Memory into Input: \n",
    "Translation Memory (TM) is an effective approach to enhance machine translation by providing additional training data for the model.\n",
    "\n",
    "Consequently, we integrated TM into the model's input.\n",
    "\n",
    "\n",
    "\n",
    "<img src=\"./figure/TM.png\" width=\"40%\" style=\"margin: 0 auto;\">\n",
    "\n",
    "We employ the retrieval method to find sentences $s_t$ in the TM that are semantically similar to the source input $s$, along with their corresponding target sentences $t_t$. \n",
    "Here, we introduce a threshold for the Euclidean distance between sentence vectors to ensure the quality of the retrieved TM. \n",
    "Additionally, considering the limited number of sentences in the low-resource language TM, we avoid setting this threshold too high or too low. \n",
    "In subsequent experiments, the threshold is set to 0.5.\n",
    "- $s$: A German sentence on source side.\n",
    "- $s_{t}$: A German sentence on source side which is similar to $s$.\n",
    "- $t_{t}$: A Upper Sorbian senctence on target side corresponding to $s_{t}$."
   ]
  },
  {
   "cell_type": "code",
   "execution_count": 2,
   "id": "d36f3d6c949f527c",
   "metadata": {
    "ExecuteTime": {
     "end_time": "2024-06-06T13:34:51.136989Z",
     "start_time": "2024-06-06T13:27:56.952076Z"
    }
   },
   "outputs": [
    {
     "name": "stderr",
     "output_type": "stream",
     "text": [
      "/home/Liu_Hengjie/miniconda3/envs/test/lib/python3.8/site-packages/huggingface_hub/file_download.py:1132: FutureWarning: `resume_download` is deprecated and will be removed in version 1.0.0. Downloads always resume when possible. If you want to force a new download, use `force_download=True`.\n",
      "  warnings.warn(\n",
      "100%|████████████████████████████████████████████████████████| 50/50 [00:00<00:00, 2182.65it/s]\n"
     ]
    },
    {
     "name": "stdout",
     "output_type": "stream",
     "text": [
      "the nuber of new generate sentence pairs:  50\n"
     ]
    },
    {
     "name": "stderr",
     "output_type": "stream",
     "text": [
      "100%|█████████████████████████████████████████████████████████| 5/5 [00:00<00:00, 23940.09it/s]\n"
     ]
    },
    {
     "name": "stdout",
     "output_type": "stream",
     "text": [
      "the nuber of new generate sentence pairs:  5\n"
     ]
    },
    {
     "name": "stderr",
     "output_type": "stream",
     "text": [
      "100%|█████████████████████████████████████████████████████████| 5/5 [00:00<00:00, 42111.49it/s]"
     ]
    },
    {
     "name": "stdout",
     "output_type": "stream",
     "text": [
      "the nuber of new generate sentence pairs:  5\n"
     ]
    },
    {
     "name": "stderr",
     "output_type": "stream",
     "text": [
      "\n"
     ]
    }
   ],
   "source": [
    "import os\n",
    "os.environ[\"TOKENIZERS_PARALLELISM\"] = \"false\"\n",
    "\n",
    "from retrieval.similar_sentences_selection import read_data, generate_new, similar_domain_selection\n",
    "\n",
    "experiments= \"GAN_TM\"\n",
    "# original bilingual corpus training: 50 * 2, validation: 5 * 2, test: 5 * 2\n",
    "de = './data/toy_data/train.hsb-de.de'\n",
    "hsb = './data/toy_data/train.hsb-de.hsb'\n",
    "val_de = './data/toy_data/devel.hsb-de.de'\n",
    "val_hsb = './data/toy_data/devel.hsb-de.hsb'\n",
    "test_de = './data/toy_data/devel_test.hsb-de.de'\n",
    "test_hsb = './data/toy_data/devel_test.hsb-de.hsb'\n",
    "# target path to write new sentence pair integrated with TM.\n",
    "train_src = './data/{}/train.dehsb_hsb.dehsb'.format(experiments)\n",
    "train_tgt = './data/{}/train.dehsb_hsb.hsb'.format(experiments)\n",
    "val_src = './data/{}/val.dehsb_hsb.dehsb'.format(experiments)\n",
    "val_tgt = './data/{}/val.dehsb_hsb.hsb'.format(experiments)\n",
    "test_src = './data/{}/test.dehsb_hsb.dehsb'.format(experiments)\n",
    "test_tgt = './data/{}/test.dehsb_hsb.hsb'.format(experiments)\n",
    "# separations\n",
    "S = \"[SEP]\"\n",
    "St = \"[SEP]\"\n",
    "Tt = \"[SEP]\"\n",
    "\n",
    "de_lines = read_data(de)\n",
    "hsb_lines = read_data(hsb)\n",
    "val_de_lines = read_data(val_de)\n",
    "val_hsb_lines = read_data(val_hsb)\n",
    "test_de_lines = read_data(test_de)\n",
    "test_hsb_lines = read_data(test_hsb)\n",
    "\n",
    "generate_new(top_k_similar=10, distance=0.5, retrieve_dataset=de_lines, query_lines=de_lines, retrieve_tar_sen_dataset=hsb_lines, query_tar_sen_dataset=hsb_lines, new_src_path=train_src, new_tgt_path=train_tgt)\n",
    "generate_new(top_k_similar=10, distance=0.5, retrieve_dataset=de_lines, query_lines=val_de_lines, retrieve_tar_sen_dataset=hsb_lines, query_tar_sen_dataset=val_hsb_lines, new_src_path=val_src, new_tgt_path=val_tgt)\n",
    "generate_new(top_k_similar=2, distance=0.5, retrieve_dataset=de_lines, query_lines=test_de_lines, retrieve_tar_sen_dataset=hsb_lines, query_tar_sen_dataset=test_hsb_lines,  new_src_path=test_src, new_tgt_path=test_tgt)\n"
   ]
  },
  {
   "cell_type": "code",
   "execution_count": 3,
   "id": "60c69335-9d2a-4d24-93ef-5cb3dfea3697",
   "metadata": {},
   "outputs": [
    {
     "name": "stderr",
     "output_type": "stream",
     "text": [
      "100%|██████████████████████████████████████████████████████| 50/50 [00:00<00:00, 165521.07it/s]"
     ]
    },
    {
     "name": "stdout",
     "output_type": "stream",
     "text": [
      "the nuber of sentences in monolingual corpus after similar domain selection:  50\n"
     ]
    },
    {
     "name": "stderr",
     "output_type": "stream",
     "text": [
      "\n"
     ]
    }
   ],
   "source": [
    "# similar domain selection\n",
    "mono_de = \"./data/toy_data/news.2007.de.shuffled.deduped\"\n",
    "created_src = './data/{}/created.dehsb_hsb.dehsb'.format(experiments)\n",
    "mono_src = './data/aug_double/mono.de_hsb.de'\n",
    "mono_de_lines = read_data(mono_de)\n",
    "similar_domain_selection(2, mono_de_lines, de_lines, hsb_lines, created_src, mono_src)\n"
   ]
  },
  {
   "cell_type": "code",
   "execution_count": 4,
   "id": "0cf28231-2fc1-4cb7-b05d-e8483c6e2153",
   "metadata": {
    "scrolled": true
   },
   "outputs": [
    {
     "name": "stdout",
     "output_type": "stream",
     "text": [
      "source sentences:   [SEP] Verweise im theoretischen Teil auf das Arbeitsmaterial und umgekehrt erleichtern die konkrete Arbeit an den Texten. [SEP] Gern möchten wir die Arbeit mit Ihnen weiter vertiefen. [SEP] Rady chcemy dźěło z Wami dale pohłubšić. \n",
      "\n",
      "target sentence:  Wotkazy z teoretiskeho dźěla na dźěłowy material a nawopak wolóžuja konkretne dźěło na tekstach. \n",
      "\n",
      "-------------------------------------------------------------------------------------------------------------------------------------------\n",
      "\n",
      "source sentences:   [SEP] Die CDU steht dafür, dass dieses Miteinander den Leitgedanken bei allen Entscheidungen bildet. [SEP] Die Mühlroser wissen, wovon ich rede. [SEP] Miłoraženjo wědźa, wo čim rěču. \n",
      "\n",
      "target sentence:  CDU steji za to, zo twori tuta zhromadnosć wodźacu mysl při wšitkich rozsudach. \n",
      "\n",
      "-------------------------------------------------------------------------------------------------------------------------------------------\n",
      "\n",
      "source sentences:   [SEP] Die Mitglieder des Vereins Sorbischer Kulturtourismus haben eine Analyse nebst Empfehlungen erarbeitet. [SEP] Gern haben auch die Mitglieder des Bergener Traditionsvereins die Einladung nach Tätzschwitz angenommen. [SEP] Rady běchu tež čłonojo Horjanskeho tradiciskeho towarstwa přeprošenje do Ptačec přiwzali. \n",
      "\n",
      "target sentence:  Čłonojo towarstwa Serbski kulturny turizm su analyzu z doporučenjemi nadźěłali. \n",
      "\n",
      "-------------------------------------------------------------------------------------------------------------------------------------------\n",
      "\n",
      "source sentences:   [SEP] Die Kinder rollen den Reifen und springen mit dem Seil. [SEP] Zwölf waren, sind und bleiben es. [SEP] Dwanaćo běchu, su a přeco wostanu. \n",
      "\n",
      "target sentence:  Dźěći kuleja rynku a z powjazom skakaja. \n",
      "\n",
      "-------------------------------------------------------------------------------------------------------------------------------------------\n",
      "\n",
      "source sentences:   [SEP] Das gilt nicht nur für unsere städtischen Verwaltungen. [SEP] Nein, sonst wir das Laken wieder schmutzig. [SEP] Ně, hewak budźe poslešćo zaso mazane. \n",
      "\n",
      "target sentence:  To njepłaći jenož za naše měšćanske zarjadnišća. \n",
      "\n",
      "-------------------------------------------------------------------------------------------------------------------------------------------\n",
      "\n"
     ]
    }
   ],
   "source": [
    "# we list the newly generated test set as an example\n",
    "new_test_de_lines = read_data(test_src)\n",
    "new_test_hsb_lines = read_data(test_tgt)\n",
    "\n",
    "for s,t in zip(new_test_de_lines[:-1],new_test_hsb_lines[:-1]):\n",
    "    print(\"source sentences: \", s, \"\\n\")\n",
    "    print(\"target sentence: \", t, \"\\n\")\n",
    "    print(\"-------------------------------------------------------------------------------------------------------------------------------------------\\n\")"
   ]
  },
  {
   "cell_type": "markdown",
   "id": "ea2b8d9e-ac4b-46b4-af9b-0d75c7f8a431",
   "metadata": {},
   "source": [
    "## Leveraging A GAN Generator to Implement Back Translation from the Source Side\n",
    "\n",
    "The GAN structure enables the utilization of additional source-side monolingual corpus to improve the performance of the translation model.\n",
    "\n",
    "<img src=\"./figure/GAN.png\" width=\"40%\" style=\"margin: 0 auto;\">\n",
    "\n",
    "\n",
    "We use a vanilla Transformer as a generator, $G$, for complex translation tasks, to generate synthetic data in the target language, i.e., the low-resource language in our settings. \n",
    "\n",
    "To build this generator $G$, we design a fusion neural network as a discriminator $D$, composed of parallel BiLSTM and CNN, handling a binary classification task.\n",
    "\n",
    "$D$ and $G$ play the following two-player minimax game with value function $V(G, D)$:\n",
    "\n",
    "\\begin{equation}\n",
    "\t\\begin{split}\n",
    "\t\t\\underset{G}{\\min}~\\underset{D}{\\max}~V(D, G)= \\mathbb{E}_{(x, y) \\sim P_{data}(x, y)}[\\log D(x, y)] \\\\\n",
    "\t   +~\\mathbb{E}_{(x_{1}, y_{1}^{\\prime}) \\sim P_{G}(x, y)}[\\log (1-D(x, y^{\\prime}))]\n",
    "\t\\end{split}\n",
    "\\end{equation}\n"
   ]
  },
  {
   "cell_type": "code",
   "execution_count": 5,
   "id": "1622d007-7a14-42d6-82ba-d605b0528ec0",
   "metadata": {},
   "outputs": [
    {
     "name": "stdout",
     "output_type": "stream",
     "text": [
      "Please modify the model_config.py file if you use our code.\n",
      "The parameters and path set here are just for toy data.\n",
      "---------------file path------------------\n",
      "experiment: GAN_TM\n",
      "source language: dehsb\n",
      "target language: hsb\n",
      "save model folder: ./model/GAN_TM/\n",
      "save result folder:./result/GAN_TM/\n",
      "---------------Parameters-----------------\n",
      "batch_size: 1\n",
      "the number of epochs: 1\n",
      "learning rate: 0.000125\n",
      "dropout: 0.15\n",
      "\n",
      "Using device: cuda\n",
      "Device name: NVIDIA RTX A4500\n",
      "Device memory: 19.71240234375 GB\n",
      "Max length of source sentence: 117\n",
      "Max length of target sentence: 50\n",
      "Max length of source sentence: 67\n",
      "Max length of target sentence: 28\n",
      "Max length of source sentence: 67\n",
      "Max length of target sentence: 28\n",
      "No model to preload, starting from scratch\n",
      "DiscriminatorFusion(\n",
      "  (convs): Conv2d(1, 256, kernel_size=(16, 1), stride=(1, 1))\n",
      "  (lstm): LSTM(1, 256, num_layers=2, batch_first=True, dropout=0.1, bidirectional=True)\n",
      "  (dropout): Dropout(p=0.1, inplace=False)\n",
      "  (CNN_fc): Linear(in_features=256, out_features=1, bias=True)\n",
      "  (LSTM_fc): Linear(in_features=512, out_features=1, bias=True)\n",
      "  (fc): Linear(in_features=768, out_features=1, bias=True)\n",
      "  (sigmoid): Sigmoid()\n",
      ")\n",
      "Transformer(\n",
      "  (encoder): Encoder(\n",
      "    (layers): ModuleList(\n",
      "      (0): EncoderBlock(\n",
      "        (self_attention_block): MultiHeadAttentionBlock(\n",
      "          (w_q): Linear(in_features=512, out_features=512, bias=False)\n",
      "          (w_k): Linear(in_features=512, out_features=512, bias=False)\n",
      "          (w_v): Linear(in_features=512, out_features=512, bias=False)\n",
      "          (w_o): Linear(in_features=512, out_features=512, bias=False)\n",
      "          (dropout): Dropout(p=0.1, inplace=False)\n",
      "        )\n",
      "        (feed_forward_block): FeedForwardBlock(\n",
      "          (linear_1): Linear(in_features=512, out_features=2048, bias=True)\n",
      "          (dropout): Dropout(p=0.15, inplace=False)\n",
      "          (linear_2): Linear(in_features=2048, out_features=512, bias=True)\n",
      "        )\n",
      "        (residual_connections): ModuleList(\n",
      "          (0): ResidualConnection(\n",
      "            (dropout): Dropout(p=0.15, inplace=False)\n",
      "            (norm): LayerNormalization()\n",
      "          )\n",
      "          (1): ResidualConnection(\n",
      "            (dropout): Dropout(p=0.15, inplace=False)\n",
      "            (norm): LayerNormalization()\n",
      "          )\n",
      "        )\n",
      "      )\n",
      "      (1): EncoderBlock(\n",
      "        (self_attention_block): MultiHeadAttentionBlock(\n",
      "          (w_q): Linear(in_features=512, out_features=512, bias=False)\n",
      "          (w_k): Linear(in_features=512, out_features=512, bias=False)\n",
      "          (w_v): Linear(in_features=512, out_features=512, bias=False)\n",
      "          (w_o): Linear(in_features=512, out_features=512, bias=False)\n",
      "          (dropout): Dropout(p=0.1, inplace=False)\n",
      "        )\n",
      "        (feed_forward_block): FeedForwardBlock(\n",
      "          (linear_1): Linear(in_features=512, out_features=2048, bias=True)\n",
      "          (dropout): Dropout(p=0.15, inplace=False)\n",
      "          (linear_2): Linear(in_features=2048, out_features=512, bias=True)\n",
      "        )\n",
      "        (residual_connections): ModuleList(\n",
      "          (0): ResidualConnection(\n",
      "            (dropout): Dropout(p=0.15, inplace=False)\n",
      "            (norm): LayerNormalization()\n",
      "          )\n",
      "          (1): ResidualConnection(\n",
      "            (dropout): Dropout(p=0.15, inplace=False)\n",
      "            (norm): LayerNormalization()\n",
      "          )\n",
      "        )\n",
      "      )\n",
      "      (2): EncoderBlock(\n",
      "        (self_attention_block): MultiHeadAttentionBlock(\n",
      "          (w_q): Linear(in_features=512, out_features=512, bias=False)\n",
      "          (w_k): Linear(in_features=512, out_features=512, bias=False)\n",
      "          (w_v): Linear(in_features=512, out_features=512, bias=False)\n",
      "          (w_o): Linear(in_features=512, out_features=512, bias=False)\n",
      "          (dropout): Dropout(p=0.1, inplace=False)\n",
      "        )\n",
      "        (feed_forward_block): FeedForwardBlock(\n",
      "          (linear_1): Linear(in_features=512, out_features=2048, bias=True)\n",
      "          (dropout): Dropout(p=0.15, inplace=False)\n",
      "          (linear_2): Linear(in_features=2048, out_features=512, bias=True)\n",
      "        )\n",
      "        (residual_connections): ModuleList(\n",
      "          (0): ResidualConnection(\n",
      "            (dropout): Dropout(p=0.15, inplace=False)\n",
      "            (norm): LayerNormalization()\n",
      "          )\n",
      "          (1): ResidualConnection(\n",
      "            (dropout): Dropout(p=0.15, inplace=False)\n",
      "            (norm): LayerNormalization()\n",
      "          )\n",
      "        )\n",
      "      )\n",
      "      (3): EncoderBlock(\n",
      "        (self_attention_block): MultiHeadAttentionBlock(\n",
      "          (w_q): Linear(in_features=512, out_features=512, bias=False)\n",
      "          (w_k): Linear(in_features=512, out_features=512, bias=False)\n",
      "          (w_v): Linear(in_features=512, out_features=512, bias=False)\n",
      "          (w_o): Linear(in_features=512, out_features=512, bias=False)\n",
      "          (dropout): Dropout(p=0.1, inplace=False)\n",
      "        )\n",
      "        (feed_forward_block): FeedForwardBlock(\n",
      "          (linear_1): Linear(in_features=512, out_features=2048, bias=True)\n",
      "          (dropout): Dropout(p=0.15, inplace=False)\n",
      "          (linear_2): Linear(in_features=2048, out_features=512, bias=True)\n",
      "        )\n",
      "        (residual_connections): ModuleList(\n",
      "          (0): ResidualConnection(\n",
      "            (dropout): Dropout(p=0.15, inplace=False)\n",
      "            (norm): LayerNormalization()\n",
      "          )\n",
      "          (1): ResidualConnection(\n",
      "            (dropout): Dropout(p=0.15, inplace=False)\n",
      "            (norm): LayerNormalization()\n",
      "          )\n",
      "        )\n",
      "      )\n",
      "      (4): EncoderBlock(\n",
      "        (self_attention_block): MultiHeadAttentionBlock(\n",
      "          (w_q): Linear(in_features=512, out_features=512, bias=False)\n",
      "          (w_k): Linear(in_features=512, out_features=512, bias=False)\n",
      "          (w_v): Linear(in_features=512, out_features=512, bias=False)\n",
      "          (w_o): Linear(in_features=512, out_features=512, bias=False)\n",
      "          (dropout): Dropout(p=0.1, inplace=False)\n",
      "        )\n",
      "        (feed_forward_block): FeedForwardBlock(\n",
      "          (linear_1): Linear(in_features=512, out_features=2048, bias=True)\n",
      "          (dropout): Dropout(p=0.15, inplace=False)\n",
      "          (linear_2): Linear(in_features=2048, out_features=512, bias=True)\n",
      "        )\n",
      "        (residual_connections): ModuleList(\n",
      "          (0): ResidualConnection(\n",
      "            (dropout): Dropout(p=0.15, inplace=False)\n",
      "            (norm): LayerNormalization()\n",
      "          )\n",
      "          (1): ResidualConnection(\n",
      "            (dropout): Dropout(p=0.15, inplace=False)\n",
      "            (norm): LayerNormalization()\n",
      "          )\n",
      "        )\n",
      "      )\n",
      "      (5): EncoderBlock(\n",
      "        (self_attention_block): MultiHeadAttentionBlock(\n",
      "          (w_q): Linear(in_features=512, out_features=512, bias=False)\n",
      "          (w_k): Linear(in_features=512, out_features=512, bias=False)\n",
      "          (w_v): Linear(in_features=512, out_features=512, bias=False)\n",
      "          (w_o): Linear(in_features=512, out_features=512, bias=False)\n",
      "          (dropout): Dropout(p=0.1, inplace=False)\n",
      "        )\n",
      "        (feed_forward_block): FeedForwardBlock(\n",
      "          (linear_1): Linear(in_features=512, out_features=2048, bias=True)\n",
      "          (dropout): Dropout(p=0.15, inplace=False)\n",
      "          (linear_2): Linear(in_features=2048, out_features=512, bias=True)\n",
      "        )\n",
      "        (residual_connections): ModuleList(\n",
      "          (0): ResidualConnection(\n",
      "            (dropout): Dropout(p=0.15, inplace=False)\n",
      "            (norm): LayerNormalization()\n",
      "          )\n",
      "          (1): ResidualConnection(\n",
      "            (dropout): Dropout(p=0.15, inplace=False)\n",
      "            (norm): LayerNormalization()\n",
      "          )\n",
      "        )\n",
      "      )\n",
      "    )\n",
      "    (norm): LayerNormalization()\n",
      "  )\n",
      "  (decoder): Decoder(\n",
      "    (layers): ModuleList(\n",
      "      (0): DecoderBlock(\n",
      "        (self_attention_block): MultiHeadAttentionBlock(\n",
      "          (w_q): Linear(in_features=512, out_features=512, bias=False)\n",
      "          (w_k): Linear(in_features=512, out_features=512, bias=False)\n",
      "          (w_v): Linear(in_features=512, out_features=512, bias=False)\n",
      "          (w_o): Linear(in_features=512, out_features=512, bias=False)\n",
      "          (dropout): Dropout(p=0.1, inplace=False)\n",
      "        )\n",
      "        (cross_attention_block): MultiHeadAttentionBlock(\n",
      "          (w_q): Linear(in_features=512, out_features=512, bias=False)\n",
      "          (w_k): Linear(in_features=512, out_features=512, bias=False)\n",
      "          (w_v): Linear(in_features=512, out_features=512, bias=False)\n",
      "          (w_o): Linear(in_features=512, out_features=512, bias=False)\n",
      "          (dropout): Dropout(p=0.1, inplace=False)\n",
      "        )\n",
      "        (feed_forward_block): FeedForwardBlock(\n",
      "          (linear_1): Linear(in_features=512, out_features=2048, bias=True)\n",
      "          (dropout): Dropout(p=0.15, inplace=False)\n",
      "          (linear_2): Linear(in_features=2048, out_features=512, bias=True)\n",
      "        )\n",
      "        (residual_connections): ModuleList(\n",
      "          (0): ResidualConnection(\n",
      "            (dropout): Dropout(p=0.15, inplace=False)\n",
      "            (norm): LayerNormalization()\n",
      "          )\n",
      "          (1): ResidualConnection(\n",
      "            (dropout): Dropout(p=0.15, inplace=False)\n",
      "            (norm): LayerNormalization()\n",
      "          )\n",
      "          (2): ResidualConnection(\n",
      "            (dropout): Dropout(p=0.15, inplace=False)\n",
      "            (norm): LayerNormalization()\n",
      "          )\n",
      "        )\n",
      "      )\n",
      "      (1): DecoderBlock(\n",
      "        (self_attention_block): MultiHeadAttentionBlock(\n",
      "          (w_q): Linear(in_features=512, out_features=512, bias=False)\n",
      "          (w_k): Linear(in_features=512, out_features=512, bias=False)\n",
      "          (w_v): Linear(in_features=512, out_features=512, bias=False)\n",
      "          (w_o): Linear(in_features=512, out_features=512, bias=False)\n",
      "          (dropout): Dropout(p=0.1, inplace=False)\n",
      "        )\n",
      "        (cross_attention_block): MultiHeadAttentionBlock(\n",
      "          (w_q): Linear(in_features=512, out_features=512, bias=False)\n",
      "          (w_k): Linear(in_features=512, out_features=512, bias=False)\n",
      "          (w_v): Linear(in_features=512, out_features=512, bias=False)\n",
      "          (w_o): Linear(in_features=512, out_features=512, bias=False)\n",
      "          (dropout): Dropout(p=0.1, inplace=False)\n",
      "        )\n",
      "        (feed_forward_block): FeedForwardBlock(\n",
      "          (linear_1): Linear(in_features=512, out_features=2048, bias=True)\n",
      "          (dropout): Dropout(p=0.15, inplace=False)\n",
      "          (linear_2): Linear(in_features=2048, out_features=512, bias=True)\n",
      "        )\n",
      "        (residual_connections): ModuleList(\n",
      "          (0): ResidualConnection(\n",
      "            (dropout): Dropout(p=0.15, inplace=False)\n",
      "            (norm): LayerNormalization()\n",
      "          )\n",
      "          (1): ResidualConnection(\n",
      "            (dropout): Dropout(p=0.15, inplace=False)\n",
      "            (norm): LayerNormalization()\n",
      "          )\n",
      "          (2): ResidualConnection(\n",
      "            (dropout): Dropout(p=0.15, inplace=False)\n",
      "            (norm): LayerNormalization()\n",
      "          )\n",
      "        )\n",
      "      )\n",
      "      (2): DecoderBlock(\n",
      "        (self_attention_block): MultiHeadAttentionBlock(\n",
      "          (w_q): Linear(in_features=512, out_features=512, bias=False)\n",
      "          (w_k): Linear(in_features=512, out_features=512, bias=False)\n",
      "          (w_v): Linear(in_features=512, out_features=512, bias=False)\n",
      "          (w_o): Linear(in_features=512, out_features=512, bias=False)\n",
      "          (dropout): Dropout(p=0.1, inplace=False)\n",
      "        )\n",
      "        (cross_attention_block): MultiHeadAttentionBlock(\n",
      "          (w_q): Linear(in_features=512, out_features=512, bias=False)\n",
      "          (w_k): Linear(in_features=512, out_features=512, bias=False)\n",
      "          (w_v): Linear(in_features=512, out_features=512, bias=False)\n",
      "          (w_o): Linear(in_features=512, out_features=512, bias=False)\n",
      "          (dropout): Dropout(p=0.1, inplace=False)\n",
      "        )\n",
      "        (feed_forward_block): FeedForwardBlock(\n",
      "          (linear_1): Linear(in_features=512, out_features=2048, bias=True)\n",
      "          (dropout): Dropout(p=0.15, inplace=False)\n",
      "          (linear_2): Linear(in_features=2048, out_features=512, bias=True)\n",
      "        )\n",
      "        (residual_connections): ModuleList(\n",
      "          (0): ResidualConnection(\n",
      "            (dropout): Dropout(p=0.15, inplace=False)\n",
      "            (norm): LayerNormalization()\n",
      "          )\n",
      "          (1): ResidualConnection(\n",
      "            (dropout): Dropout(p=0.15, inplace=False)\n",
      "            (norm): LayerNormalization()\n",
      "          )\n",
      "          (2): ResidualConnection(\n",
      "            (dropout): Dropout(p=0.15, inplace=False)\n",
      "            (norm): LayerNormalization()\n",
      "          )\n",
      "        )\n",
      "      )\n",
      "      (3): DecoderBlock(\n",
      "        (self_attention_block): MultiHeadAttentionBlock(\n",
      "          (w_q): Linear(in_features=512, out_features=512, bias=False)\n",
      "          (w_k): Linear(in_features=512, out_features=512, bias=False)\n",
      "          (w_v): Linear(in_features=512, out_features=512, bias=False)\n",
      "          (w_o): Linear(in_features=512, out_features=512, bias=False)\n",
      "          (dropout): Dropout(p=0.1, inplace=False)\n",
      "        )\n",
      "        (cross_attention_block): MultiHeadAttentionBlock(\n",
      "          (w_q): Linear(in_features=512, out_features=512, bias=False)\n",
      "          (w_k): Linear(in_features=512, out_features=512, bias=False)\n",
      "          (w_v): Linear(in_features=512, out_features=512, bias=False)\n",
      "          (w_o): Linear(in_features=512, out_features=512, bias=False)\n",
      "          (dropout): Dropout(p=0.1, inplace=False)\n",
      "        )\n",
      "        (feed_forward_block): FeedForwardBlock(\n",
      "          (linear_1): Linear(in_features=512, out_features=2048, bias=True)\n",
      "          (dropout): Dropout(p=0.15, inplace=False)\n",
      "          (linear_2): Linear(in_features=2048, out_features=512, bias=True)\n",
      "        )\n",
      "        (residual_connections): ModuleList(\n",
      "          (0): ResidualConnection(\n",
      "            (dropout): Dropout(p=0.15, inplace=False)\n",
      "            (norm): LayerNormalization()\n",
      "          )\n",
      "          (1): ResidualConnection(\n",
      "            (dropout): Dropout(p=0.15, inplace=False)\n",
      "            (norm): LayerNormalization()\n",
      "          )\n",
      "          (2): ResidualConnection(\n",
      "            (dropout): Dropout(p=0.15, inplace=False)\n",
      "            (norm): LayerNormalization()\n",
      "          )\n",
      "        )\n",
      "      )\n",
      "      (4): DecoderBlock(\n",
      "        (self_attention_block): MultiHeadAttentionBlock(\n",
      "          (w_q): Linear(in_features=512, out_features=512, bias=False)\n",
      "          (w_k): Linear(in_features=512, out_features=512, bias=False)\n",
      "          (w_v): Linear(in_features=512, out_features=512, bias=False)\n",
      "          (w_o): Linear(in_features=512, out_features=512, bias=False)\n",
      "          (dropout): Dropout(p=0.1, inplace=False)\n",
      "        )\n",
      "        (cross_attention_block): MultiHeadAttentionBlock(\n",
      "          (w_q): Linear(in_features=512, out_features=512, bias=False)\n",
      "          (w_k): Linear(in_features=512, out_features=512, bias=False)\n",
      "          (w_v): Linear(in_features=512, out_features=512, bias=False)\n",
      "          (w_o): Linear(in_features=512, out_features=512, bias=False)\n",
      "          (dropout): Dropout(p=0.1, inplace=False)\n",
      "        )\n",
      "        (feed_forward_block): FeedForwardBlock(\n",
      "          (linear_1): Linear(in_features=512, out_features=2048, bias=True)\n",
      "          (dropout): Dropout(p=0.15, inplace=False)\n",
      "          (linear_2): Linear(in_features=2048, out_features=512, bias=True)\n",
      "        )\n",
      "        (residual_connections): ModuleList(\n",
      "          (0): ResidualConnection(\n",
      "            (dropout): Dropout(p=0.15, inplace=False)\n",
      "            (norm): LayerNormalization()\n",
      "          )\n",
      "          (1): ResidualConnection(\n",
      "            (dropout): Dropout(p=0.15, inplace=False)\n",
      "            (norm): LayerNormalization()\n",
      "          )\n",
      "          (2): ResidualConnection(\n",
      "            (dropout): Dropout(p=0.15, inplace=False)\n",
      "            (norm): LayerNormalization()\n",
      "          )\n",
      "        )\n",
      "      )\n",
      "      (5): DecoderBlock(\n",
      "        (self_attention_block): MultiHeadAttentionBlock(\n",
      "          (w_q): Linear(in_features=512, out_features=512, bias=False)\n",
      "          (w_k): Linear(in_features=512, out_features=512, bias=False)\n",
      "          (w_v): Linear(in_features=512, out_features=512, bias=False)\n",
      "          (w_o): Linear(in_features=512, out_features=512, bias=False)\n",
      "          (dropout): Dropout(p=0.1, inplace=False)\n",
      "        )\n",
      "        (cross_attention_block): MultiHeadAttentionBlock(\n",
      "          (w_q): Linear(in_features=512, out_features=512, bias=False)\n",
      "          (w_k): Linear(in_features=512, out_features=512, bias=False)\n",
      "          (w_v): Linear(in_features=512, out_features=512, bias=False)\n",
      "          (w_o): Linear(in_features=512, out_features=512, bias=False)\n",
      "          (dropout): Dropout(p=0.1, inplace=False)\n",
      "        )\n",
      "        (feed_forward_block): FeedForwardBlock(\n",
      "          (linear_1): Linear(in_features=512, out_features=2048, bias=True)\n",
      "          (dropout): Dropout(p=0.15, inplace=False)\n",
      "          (linear_2): Linear(in_features=2048, out_features=512, bias=True)\n",
      "        )\n",
      "        (residual_connections): ModuleList(\n",
      "          (0): ResidualConnection(\n",
      "            (dropout): Dropout(p=0.15, inplace=False)\n",
      "            (norm): LayerNormalization()\n",
      "          )\n",
      "          (1): ResidualConnection(\n",
      "            (dropout): Dropout(p=0.15, inplace=False)\n",
      "            (norm): LayerNormalization()\n",
      "          )\n",
      "          (2): ResidualConnection(\n",
      "            (dropout): Dropout(p=0.15, inplace=False)\n",
      "            (norm): LayerNormalization()\n",
      "          )\n",
      "        )\n",
      "      )\n",
      "    )\n",
      "    (norm): LayerNormalization()\n",
      "  )\n",
      "  (src_embed): InputEmbeddings(\n",
      "    (embedding): Embedding(8000, 512)\n",
      "  )\n",
      "  (tgt_embed): InputEmbeddings(\n",
      "    (embedding): Embedding(8000, 512)\n",
      "  )\n",
      "  (src_pos): PositionalEncoding(\n",
      "    (dropout): Dropout(p=0.15, inplace=False)\n",
      "  )\n",
      "  (tgt_pos): PositionalEncoding(\n",
      "    (dropout): Dropout(p=0.15, inplace=False)\n",
      "  )\n",
      "  (projection_layer): ProjectionLayer(\n",
      "    (proj): Linear(in_features=512, out_features=8000, bias=True)\n",
      "  )\n",
      ")\n",
      "\n",
      "\n",
      "translate monolingual corpus:\n",
      "Max length of source sentence: 132\n",
      "Max length of target sentence: 50\n"
     ]
    },
    {
     "name": "stderr",
     "output_type": "stream",
     "text": [
      "100%|██████████████████████████████████████████████████████████| 50/50 [01:19<00:00,  1.58s/it]\n"
     ]
    },
    {
     "name": "stdout",
     "output_type": "stream",
     "text": [
      "Max length of source sentence: 132\n",
      "Max length of target sentence: 153\n",
      "\n",
      "\n",
      "D training process:\n"
     ]
    },
    {
     "name": "stderr",
     "output_type": "stream",
     "text": [
      "Processing Epoch 01: 0it [00:00, ?it/s]"
     ]
    },
    {
     "data": {
      "application/vnd.jupyter.widget-view+json": {
       "model_id": "df0d385a4b6b4b0cb677bd8c444585a1",
       "version_major": 2,
       "version_minor": 0
      },
      "text/plain": [
       "  0%|          | 0/50 [00:00<?, ?it/s]"
      ]
     },
     "metadata": {},
     "output_type": "display_data"
    },
    {
     "name": "stderr",
     "output_type": "stream",
     "text": [
      "Processing Epoch 01: 49it [00:14, 12.88it/s, d_loss=100.000, d_lr=1.1180339242855553e-05]"
     ]
    },
    {
     "name": "stdout",
     "output_type": "stream",
     "text": [
      "\n",
      "\n",
      "save D model:\n"
     ]
    },
    {
     "name": "stderr",
     "output_type": "stream",
     "text": [
      "Processing Epoch 01: 50it [00:17,  2.91it/s, d_loss=100.000, d_lr=1.1180339242855553e-05]\n"
     ]
    },
    {
     "name": "stdout",
     "output_type": "stream",
     "text": [
      "\n",
      "\n",
      "G training process:\n"
     ]
    },
    {
     "name": "stderr",
     "output_type": "stream",
     "text": [
      "Processing Epoch 01:  96%|██████████████████████ | 48/50 [00:05<00:00,  8.58it/s, g_loss=7.857]"
     ]
    },
    {
     "name": "stdout",
     "output_type": "stream",
     "text": [
      "\n",
      "\n",
      "validate G model:\n"
     ]
    },
    {
     "name": "stderr",
     "output_type": "stream",
     "text": [
      "\n",
      "  0%|                                                                    | 0/5 [00:00<?, ?it/s]\u001b[A\n",
      "100%|████████████████████████████████████████████████████████████| 5/5 [00:00<00:00, 40.55it/s]\u001b[A\n",
      "Processing Epoch 01: 100%|███████████████████████| 50/50 [01:05<00:00,  1.30s/it, g_loss=7.857]\n"
     ]
    }
   ],
   "source": [
    "# we begin to train the generator in the architecture above.\n",
    "\n",
    "import train_GAN\n",
    "train_GAN.begin_training()\n",
    "\n",
    "# In the train log below, we first print some important parameters.\n",
    "# In our actual experiments, we leverage early stop and save the best model to ensure the performance.\n",
    "# Followed with them, is the structure of G and D."
   ]
  },
  {
   "cell_type": "code",
   "execution_count": 6,
   "id": "af1108d3-f5d3-4a7d-8475-68b78ce9e7df",
   "metadata": {},
   "outputs": [
    {
     "name": "stdout",
     "output_type": "stream",
     "text": [
      "Using device: cuda\n",
      "Max length of source sentence: 76\n",
      "Max length of target sentence: 23\n"
     ]
    },
    {
     "name": "stderr",
     "output_type": "stream",
     "text": [
      "100%|████████████████████████████████████████████████████████████| 5/5 [00:00<00:00, 61.16it/s]\n"
     ]
    }
   ],
   "source": [
    "# translate and evaluate the test set\n",
    "import translate\n",
    "translate.main(test=True)"
   ]
  },
  {
   "cell_type": "code",
   "execution_count": 7,
   "id": "5f948adf-4453-4f07-abe4-2c9683742c31",
   "metadata": {},
   "outputs": [
    {
     "name": "stdout",
     "output_type": "stream",
     "text": [
      "+-------------+--------+---------+-------+\n",
      "| Generator   |   BLEU |   chrF2 |   TER |\n",
      "+=============+========+=========+=======+\n",
      "| +TM +GAN    |      0 |       0 |   100 |\n",
      "+-------------+--------+---------+-------+\n"
     ]
    }
   ],
   "source": [
    "import evaluation\n",
    "from tabulate import tabulate\n",
    "table_header = ['Generator', 'BLEU', 'chrF2', 'TER']\n",
    "bleu, chrF2, ter = evaluation.cal_bleu()\n",
    "print(tabulate(tabular_data=[('+TM +GAN', bleu, chrF2, ter)],headers=table_header,tablefmt='grid'))\n",
    "# evaluation.main()\n"
   ]
  },
  {
   "cell_type": "markdown",
   "id": "d6a28754-c841-420c-b8f0-f9b14d401f07",
   "metadata": {},
   "source": [
    "## Conducting Data Augmentation experiments to Evaluate the Performance of High-quality Filter.\n",
    "\n",
    "Not all sentences translated by the generator are of high quality. \n",
    "\n",
    "Therefore, we implemented the following process to filter out sentences that significantly deviate from natural language sentences. \n",
    "\n",
    "We retained high-quality translation results and demonstrated their effectiveness through data augmentation experiments.\n",
    "\n",
    "<img src=\"./figure/filter.png\" width=\"40%\" style=\"margin: 0 auto;\">\n",
    "\n",
    "\n",
    "To demonstrate the effectiveness of the low-resource sentences translated by our generator, we utilize data augmentation experiments for verification. \n",
    "\n",
    "However, in a standard data augmentation process, the synthetic sentences may vary in quality, and we cannot ensure that all sentences in the synthetic corpus are of high quality. \n",
    "\n",
    "Based on this, this thesis proposes an effective high-quality filtering process, as illustrated in Figure."
   ]
  },
  {
   "cell_type": "code",
   "execution_count": 8,
   "id": "a6a7d178-de54-49c8-bda5-96fdfc999fa2",
   "metadata": {},
   "outputs": [
    {
     "name": "stdout",
     "output_type": "stream",
     "text": [
      "Using device: cuda\n",
      "Max length of source sentence: 132\n",
      "Max length of target sentence: 50\n"
     ]
    },
    {
     "name": "stderr",
     "output_type": "stream",
     "text": [
      "100%|██████████████████████████████████████████████████████████| 50/50 [00:23<00:00,  2.11it/s]\n"
     ]
    }
   ],
   "source": [
    "# translate the monolingual corpus in similar domain\n",
    "# We use a pretrain model to translate the monolingual corpus, to show the true situation of our filter below.\n",
    "# In your case, you should use the generator (G) trained above.\n",
    "# Please modify the model_config.py file.\n",
    "import translate\n",
    "translate.main(test=False)"
   ]
  },
  {
   "cell_type": "code",
   "execution_count": 9,
   "id": "dd44391a-4e92-45fc-8cc0-c5f1647ff6d3",
   "metadata": {},
   "outputs": [],
   "source": [
    "!cp ./result/GAN_TM/translation.txt ./data/aug_double/created.de_hsb.hsb\n",
    "!cp ./data/toy_data/train.hsb-de.de ./data/aug_double/train.de_hsb.de\n",
    "!cp ./data/toy_data/train.hsb-de.hsb ./data/aug_double/train.de_hsb.hsb"
   ]
  },
  {
   "cell_type": "code",
   "execution_count": 10,
   "id": "072007be-6a69-4702-95c7-bf592796cfcf",
   "metadata": {},
   "outputs": [
    {
     "data": {
      "image/png": "[encoded data removed]",
      "text/plain": [
       "<Figure size 640x480 with 1 Axes>"
      ]
     },
     "metadata": {},
     "output_type": "display_data"
    },
    {
     "data": {
      "image/png": "[encoded data removed]",
      "text/plain": [
       "<Figure size 640x480 with 1 Axes>"
      ]
     },
     "metadata": {},
     "output_type": "display_data"
    }
   ],
   "source": [
    "# get the filter interval in natural bilingual corpus\n",
    "import high_quality_procedure.high_quality_filter as filter\n",
    "ppl_mean, ppl_std, len_mean, len_std = filter.get_original_interval()"
   ]
  },
  {
   "cell_type": "markdown",
   "id": "b0384248-d9ef-49e4-98e8-0b59644cdf1d",
   "metadata": {},
   "source": [
    "Function filter.filter_synthetic() below accepts four parameters to establish criteria for the filter. \n",
    "\n",
    "To conduct comparative experiments, adjust the standard intervals in filter.filter_synthetic() while keeping other procedures unchanged. \n",
    "\n",
    "For example:\n",
    "\n",
    "- filter.filter_synthetic(0, 100, len_mean+len_std, len_mean-len_std) means filter the synthetic sentences by the ratio of length.\n",
    "\n",
    "This process is straightforward and repetitive, utilizing vanilla Transformer models throughout. \n",
    "\n",
    "Therefore, further elaboration is unnecessary."
   ]
  },
  {
   "cell_type": "code",
   "execution_count": 11,
   "id": "6951bea8-94d9-41fc-8fc3-2b7806fe020d",
   "metadata": {},
   "outputs": [
    {
     "data": {
      "image/png": "[encoded data removed]",
      "text/plain": [
       "<Figure size 640x480 with 1 Axes>"
      ]
     },
     "metadata": {},
     "output_type": "display_data"
    },
    {
     "data": {
      "image/png": "[encoded data removed]",
      "text/plain": [
       "<Figure size 640x480 with 1 Axes>"
      ]
     },
     "metadata": {},
     "output_type": "display_data"
    }
   ],
   "source": [
    "# filter the synthetic bilingual corpus\n",
    "filter.filter_synthetic(ppl_mean+ppl_std, ppl_mean-ppl_std, len_mean+len_std, len_mean-len_std)"
   ]
  },
  {
   "cell_type": "code",
   "execution_count": 12,
   "id": "63d75b63-87f3-4804-8631-fcbc8f045725",
   "metadata": {},
   "outputs": [],
   "source": [
    "# augment the original bilingual corpus.\n",
    "!cat ./data/toy_data/train.hsb-de.de ./data/aug_double/filtered.de_hsb.de > ./data/aug_double/train.de_hsb.de"
   ]
  },
  {
   "cell_type": "code",
   "execution_count": 13,
   "id": "3f32595f-15a5-41df-ba1d-83f8eca024f1",
   "metadata": {},
   "outputs": [],
   "source": [
    "!cat ./data/toy_data/train.hsb-de.hsb ./data/aug_double/filtered.de_hsb.hsb > ./data/aug_double/train.de_hsb.hsb"
   ]
  },
  {
   "cell_type": "code",
   "execution_count": 14,
   "id": "d1a0c3e5-fb78-4347-b875-d8523b45ee2d",
   "metadata": {},
   "outputs": [
    {
     "name": "stdout",
     "output_type": "stream",
     "text": [
      "Please modify the model_config.py file if you use our code.\n",
      "The parameters and path set here are just for toy data.\n",
      "---------------file path------------------\n",
      "experiment: aug_double\n",
      "source language: de\n",
      "target language: hsb\n",
      "save model folder: ./model/aug_double/\n",
      "save result folder:./result/aug_double/\n",
      "---------------Parameters-----------------\n",
      "batch_size: 1\n",
      "the number of epochs:1\n",
      "learning rate: 0.000125\n",
      "dropout: 0.15\n",
      "\n",
      "Using device: cuda\n",
      "Device name: NVIDIA RTX A4500\n",
      "Device memory: 19.71240234375 GB\n",
      "Max length of source sentence: 49\n",
      "Max length of target sentence: 50\n",
      "Max length of source sentence: 36\n",
      "Max length of target sentence: 28\n",
      "No model to preload, starting from scratch\n",
      "\n",
      "\n",
      "epoch 1 training process:\n"
     ]
    },
    {
     "name": "stderr",
     "output_type": "stream",
     "text": [
      "Processing Epoch 01:  67%|████████████████▋        | 50/75 [00:04<00:02, 12.39it/s, loss=7.665]"
     ]
    },
    {
     "name": "stdout",
     "output_type": "stream",
     "text": [
      "\n",
      "\n",
      "validate G model:\n"
     ]
    },
    {
     "name": "stderr",
     "output_type": "stream",
     "text": [
      "\n",
      "  0%|                                                                    | 0/5 [00:00<?, ?it/s]\u001b[A\n",
      "100%|████████████████████████████████████████████████████████████| 5/5 [00:00<00:00, 42.04it/s]\u001b[A\n",
      "Processing Epoch 01: 100%|█████████████████████████| 75/75 [01:04<00:00,  1.16it/s, loss=7.847]\n"
     ]
    }
   ],
   "source": [
    "# data augmentation experiment.\n",
    "import transformer\n",
    "transformer.begin_training()\n"
   ]
  },
  {
   "cell_type": "code",
   "execution_count": 15,
   "id": "2b393626-f459-46c5-9b93-f77c67b4f3f0",
   "metadata": {},
   "outputs": [
    {
     "name": "stdout",
     "output_type": "stream",
     "text": [
      "Using device: cuda\n",
      "Max length of source sentence: 24\n",
      "Max length of target sentence: 23\n"
     ]
    },
    {
     "name": "stderr",
     "output_type": "stream",
     "text": [
      "100%|████████████████████████████████████████████████████████████| 5/5 [00:00<00:00, 46.46it/s]"
     ]
    },
    {
     "name": "stdout",
     "output_type": "stream",
     "text": [
      "+-----------------------------+--------+---------+-------+\n",
      "| Filter                      |   BLEU |   chrF2 |   TER |\n",
      "+=============================+========+=========+=======+\n",
      "| +ratio_of_ppl +ratio_of_len |      0 |       0 |   100 |\n",
      "+-----------------------------+--------+---------+-------+\n"
     ]
    },
    {
     "name": "stderr",
     "output_type": "stream",
     "text": [
      "\n"
     ]
    }
   ],
   "source": [
    "# translate and evaluate test set.\n",
    "from model_config import Transformer_Config\n",
    "config = Transformer_Config()\n",
    "translate.main(test=True, config=config)\n",
    "table_header = ['Filter', 'BLEU', 'chrF2', 'TER']\n",
    "bleu, chrF2, ter = evaluation.cal_bleu(config=config)\n",
    "print(tabulate(tabular_data=[('+ratio_of_ppl +ratio_of_len', bleu, chrF2, ter)],headers=table_header,tablefmt='grid'))\n",
    "# evaluation.main(config=config)"
   ]
  }
 ],
 "metadata": {
  "kernelspec": {
   "display_name": "Python 3 (ipykernel)",
   "language": "python",
   "name": "python3"
  },
  "language_info": {
   "codemirror_mode": {
    "name": "ipython",
    "version": 3
   },
   "file_extension": ".py",
   "mimetype": "text/x-python",
   "name": "python",
   "nbconvert_exporter": "python",
   "pygments_lexer": "ipython3",
   "version": "3.10.12"
  }
 },
 "nbformat": 4,
 "nbformat_minor": 5
}
